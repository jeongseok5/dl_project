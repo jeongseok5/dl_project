{
  "nbformat": 4,
  "nbformat_minor": 0,
  "metadata": {
    "colab": {
      "name": "Converter.ipynb",
      "provenance": [],
      "collapsed_sections": []
    },
    "kernelspec": {
      "name": "python3",
      "display_name": "Python 3"
    },
    "language_info": {
      "name": "python"
    },
    "gpuClass": "standard"
  },
  "cells": [
    {
      "cell_type": "code",
      "source": [
        "from google.colab import drive\n",
        "drive.mount('/content/drive')"
      ],
      "metadata": {
        "id": "7J2oDp1-wMFp"
      },
      "execution_count": null,
      "outputs": []
    },
    {
      "cell_type": "code",
      "execution_count": null,
      "metadata": {
        "id": "9k8t41QuTn_H"
      },
      "outputs": [],
      "source": [
        "# Pakages & Modules\n",
        "from PIL import Image\n",
        "import os\n",
        "# Process Visualization\n",
        "import time\n",
        "from tqdm import tqdm"
      ]
    },
    {
      "cell_type": "code",
      "source": [
        "# Image Converter\n",
        "def imageConverter(Filedir):\n",
        "    fnames = os.listdir(os.path.join(Filedir))\n",
        "    print(fnames)\n",
        "    images = [os.path.join(Filedir, fname) for fname in fnames]\n",
        "    print('Total images:', len(images))\n",
        "    \n",
        "    # Iterating in Filedir\n",
        "    for i in tqdm(range(len(images))):\n",
        "        img = Image.open(images[i])\n",
        "        img_resize = img.resize((512, 512))\n",
        "        \n",
        "        # Save resized files to new path\n",
        "        temp = Filedir.split('/')\n",
        "        temp[-1] = temp[-1]+'_resize'\n",
        "        resized_fname = '/'.join(temp)\n",
        "        if not os.path.exists(resized_fname):\n",
        "            os.makedirs(resized_fname)\n",
        "        img_resize.save( os.path.join(resized_fname, fnames[i].split('.')[0])+'.png', 'png' )\n",
        "        time.sleep(0.1)\n",
        "\n"
      ],
      "metadata": {
        "id": "jb6_tbE8XUaA"
      },
      "execution_count": null,
      "outputs": []
    },
    {
      "cell_type": "code",
      "source": [
        ""
      ],
      "metadata": {
        "id": "fg-T_UmtgG29"
      },
      "execution_count": null,
      "outputs": []
    },
    {
      "cell_type": "code",
      "source": [
        ""
      ],
      "metadata": {
        "id": "TcZILvSFgTXB"
      },
      "execution_count": null,
      "outputs": []
    }
  ]
}